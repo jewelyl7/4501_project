{
 "cells": [
  {
   "cell_type": "markdown",
   "id": "32f8ca24",
   "metadata": {},
   "source": [
    "# Understanding Hired Rides in NYC\n",
    "\n",
    "_[Project prompt](https://docs.google.com/document/d/1VERPjEZcC1XSs4-02aM-DbkNr_yaJVbFjLJxaYQswqA/edit#)_\n",
    "\n",
    "_This scaffolding notebook may be used to help setup your final project. It's **totally optional** whether you make use of this or not._\n",
    "\n",
    "_If you do use this notebook, everything provided is optional as well - you may remove or add prose and code as you wish._\n",
    "\n",
    "_Anything in italics (prose) or comments (in code) is meant to provide you with guidance. **Remove the italic lines and provided comments** before submitting the project, if you choose to use this scaffolding. We don't need the guidance when grading._\n",
    "\n",
    "_**All code below should be consider \"pseudo-code\" - not functional by itself, and only a suggestion at the approach.**_"
   ]
  },
  {
   "cell_type": "markdown",
   "id": "25627e8d",
   "metadata": {},
   "source": [
    "## Requirements\n",
    "\n",
    "_A checklist of requirements to keep you on track. Remove this whole cell before submitting the project._\n",
    "\n",
    "* Code clarity: make sure the code conforms to:\n",
    "    * [ ] [PEP 8](https://peps.python.org/pep-0008/) - You might find [this resource](https://realpython.com/python-pep8/) helpful as well as [this](https://github.com/dnanhkhoa/nb_black) or [this](https://jupyterlab-code-formatter.readthedocs.io/en/latest/) tool\n",
    "    * [ ] [PEP 257](https://peps.python.org/pep-0257/)\n",
    "    * [ ] Break each task down into logical functions\n",
    "* The following files are submitted for the project (see the project's GDoc for more details):\n",
    "    * [ ] `README.md`\n",
    "    * [ ] `requirements.txt`\n",
    "    * [ ] `.gitignore`\n",
    "    * [ ] `schema.sql`\n",
    "    * [ ] 6 query files (using the `.sql` extension), appropriately named for the purpose of the query\n",
    "    * [x] Jupyter Notebook containing the project (this file!)\n",
    "* [x] You can edit this cell and add a `x` inside the `[ ]` like this task to denote a completed task"
   ]
  },
  {
   "cell_type": "markdown",
   "id": "2f75fd94",
   "metadata": {},
   "source": [
    "## Project Setup"
   ]
  },
  {
   "cell_type": "code",
   "execution_count": 15,
   "id": "1ab9dff1",
   "metadata": {},
   "outputs": [
    {
     "name": "stdout",
     "output_type": "stream",
     "text": [
      "Requirement already satisfied: sqlalchemy in /usr/local/python/3.10.4/lib/python3.10/site-packages (1.4.45)\n",
      "Requirement already satisfied: greenlet!=0.4.17 in /usr/local/python/3.10.4/lib/python3.10/site-packages (from sqlalchemy) (2.0.1)\n",
      "Note: you may need to restart the kernel to use updated packages.\n"
     ]
    }
   ],
   "source": [
    "pip install sqlalchemy"
   ]
  },
  {
   "cell_type": "code",
   "execution_count": 16,
   "id": "07ac96c2",
   "metadata": {},
   "outputs": [
    {
     "name": "stdout",
     "output_type": "stream",
     "text": [
      "Requirement already satisfied: geopandas in /usr/local/python/3.10.4/lib/python3.10/site-packages (0.12.2)\n",
      "Requirement already satisfied: shapely>=1.7 in /usr/local/python/3.10.4/lib/python3.10/site-packages (from geopandas) (1.8.5.post1)\n",
      "Requirement already satisfied: pyproj>=2.6.1.post1 in /usr/local/python/3.10.4/lib/python3.10/site-packages (from geopandas) (3.4.0)\n",
      "Requirement already satisfied: packaging in /home/codespace/.local/lib/python3.10/site-packages (from geopandas) (21.3)\n",
      "Requirement already satisfied: fiona>=1.8 in /usr/local/python/3.10.4/lib/python3.10/site-packages (from geopandas) (1.8.22)\n",
      "Requirement already satisfied: pandas>=1.0.0 in /home/codespace/.local/lib/python3.10/site-packages (from geopandas) (1.5.2)\n",
      "Requirement already satisfied: setuptools in /usr/local/python/3.10.4/lib/python3.10/site-packages (from fiona>=1.8->geopandas) (58.1.0)\n",
      "Requirement already satisfied: certifi in /home/codespace/.local/lib/python3.10/site-packages (from fiona>=1.8->geopandas) (2022.9.24)\n",
      "Requirement already satisfied: attrs>=17 in /home/codespace/.local/lib/python3.10/site-packages (from fiona>=1.8->geopandas) (22.1.0)\n",
      "Requirement already satisfied: six>=1.7 in /home/codespace/.local/lib/python3.10/site-packages (from fiona>=1.8->geopandas) (1.16.0)\n",
      "Requirement already satisfied: munch in /usr/local/python/3.10.4/lib/python3.10/site-packages (from fiona>=1.8->geopandas) (2.5.0)\n",
      "Requirement already satisfied: click>=4.0 in /usr/local/python/3.10.4/lib/python3.10/site-packages (from fiona>=1.8->geopandas) (8.1.3)\n",
      "Requirement already satisfied: cligj>=0.5 in /usr/local/python/3.10.4/lib/python3.10/site-packages (from fiona>=1.8->geopandas) (0.7.2)\n",
      "Requirement already satisfied: click-plugins>=1.0 in /usr/local/python/3.10.4/lib/python3.10/site-packages (from fiona>=1.8->geopandas) (1.1.1)\n",
      "Requirement already satisfied: python-dateutil>=2.8.1 in /home/codespace/.local/lib/python3.10/site-packages (from pandas>=1.0.0->geopandas) (2.8.2)\n",
      "Requirement already satisfied: pytz>=2020.1 in /home/codespace/.local/lib/python3.10/site-packages (from pandas>=1.0.0->geopandas) (2022.6)\n",
      "Requirement already satisfied: numpy>=1.21.0 in /home/codespace/.local/lib/python3.10/site-packages (from pandas>=1.0.0->geopandas) (1.23.5)\n",
      "Requirement already satisfied: pyparsing!=3.0.5,>=2.0.2 in /home/codespace/.local/lib/python3.10/site-packages (from packaging->geopandas) (3.0.9)\n",
      "Note: you may need to restart the kernel to use updated packages.\n"
     ]
    }
   ],
   "source": [
    "pip install geopandas"
   ]
  },
  {
   "cell_type": "code",
   "execution_count": 17,
   "id": "fb5e203a",
   "metadata": {},
   "outputs": [
    {
     "name": "stdout",
     "output_type": "stream",
     "text": [
      "Requirement already satisfied: pyarrow in /usr/local/python/3.10.4/lib/python3.10/site-packages (10.0.1)\n",
      "Requirement already satisfied: numpy>=1.16.6 in /home/codespace/.local/lib/python3.10/site-packages (from pyarrow) (1.23.5)\n",
      "Note: you may need to restart the kernel to use updated packages.\n"
     ]
    }
   ],
   "source": [
    "pip install pyarrow"
   ]
  },
  {
   "cell_type": "code",
   "execution_count": 18,
   "id": "50e12be0",
   "metadata": {},
   "outputs": [
    {
     "name": "stdout",
     "output_type": "stream",
     "text": [
      "Requirement already satisfied: pyogrio in /usr/local/python/3.10.4/lib/python3.10/site-packages (0.4.2)\n",
      "Requirement already satisfied: numpy in /home/codespace/.local/lib/python3.10/site-packages (from pyogrio) (1.23.5)\n",
      "Requirement already satisfied: certifi in /home/codespace/.local/lib/python3.10/site-packages (from pyogrio) (2022.9.24)\n",
      "Note: you may need to restart the kernel to use updated packages.\n"
     ]
    }
   ],
   "source": [
    "pip install pyogrio"
   ]
  },
  {
   "cell_type": "code",
   "execution_count": 19,
   "id": "66dcde05",
   "metadata": {},
   "outputs": [],
   "source": [
    "# all import statements needed for the project, for example:\n",
    "\n",
    "import math\n",
    "\n",
    "import bs4\n",
    "import matplotlib.pyplot as plt\n",
    "import pandas as pd\n",
    "import requests\n",
    "import sqlalchemy as db\n",
    "import numpy as np\n",
    "import geopandas as gpd\n",
    "from shapely.geometry import Point\n",
    "import warnings\n",
    "warnings.filterwarnings('ignore')\n",
    "import re"
   ]
  },
  {
   "cell_type": "code",
   "execution_count": 20,
   "id": "8b622a58",
   "metadata": {},
   "outputs": [],
   "source": [
    "# any general notebook setup, like log formatting"
   ]
  },
  {
   "cell_type": "code",
   "execution_count": 21,
   "id": "3f1242c4",
   "metadata": {},
   "outputs": [],
   "source": [
    "# any constants you might need, for example:\n",
    "\n",
    "TAXI_URL = \"https://www1.nyc.gov/site/tlc/about/tlc-trip-record-data.page\"\n",
    "# add other constants to refer to any local data, e.g. uber & weather\n",
    "UBER_CSV = \"uber_rides_sample.csv\"\n",
    "\n",
    "NEW_YORK_BOX_COORDS = ((40.560445, -74.242330), (40.908524, -73.717047))\n",
    "\n",
    "DATABASE_URL = \"sqlite:///final_project.db\"\n",
    "DATABASE_SCHEMA_FILE = \"schema.sql\"\n",
    "QUERY_DIRECTORY = \"queries\""
   ]
  },
  {
   "cell_type": "markdown",
   "id": "26ad10ea",
   "metadata": {},
   "source": [
    "## Part 1: Data Preprocessing"
   ]
  },
  {
   "cell_type": "markdown",
   "id": "ecf38168",
   "metadata": {},
   "source": [
    "_A checklist of requirements to keep you on track. Remove this whole cell before submitting the project. The order of these tasks aren't necessarily the order in which they need to be done. It's okay to do them in an order that makes sense to you._\n",
    "\n",
    "* [ ] Define a function that calculates the distance between two coordinates in kilometers that **only uses the `math` module** from the standard library.\n",
    "* [ ] Taxi data:\n",
    "    * [ ] Use the `re` module, and the packages `requests`, BeautifulSoup (`bs4`), and (optionally) `pandas` to programmatically download the required CSV files & load into memory.\n",
    "    * You may need to do this one file at a time - download, clean, sample. You can cache the sampling by saving it as a CSV file (and thereby freeing up memory on your computer) before moving onto the next file. \n",
    "* [ ] Weather & Uber data:\n",
    "    * [ ] Download the data manually in the link provided in the project doc.\n",
    "* [ ] All data:\n",
    "    * [ ] Load the data using `pandas`\n",
    "    * [ ] Clean the data, including:\n",
    "        * Remove unnecessary columns\n",
    "        * Remove invalid data points (take a moment to consider what's invalid)\n",
    "        * Normalize column names\n",
    "        * (Taxi & Uber data) Remove trips that start and/or end outside the designated [coordinate box](http://bboxfinder.com/#40.560445,-74.242330,40.908524,-73.717047)\n",
    "    * [ ] (Taxi data) Sample the data so that you have roughly the same amount of data points over the given date range for both Taxi data and Uber data.\n",
    "* [ ] Weather data:\n",
    "    * [ ] Split into two `pandas` DataFrames: one for required hourly data, and one for the required daily daya.\n",
    "    * [ ] You may find that the weather data you need later on does not exist at the frequency needed (daily vs hourly). You may calculate/generate samples from one to populate the other. Just document what you’re doing so we can follow along. "
   ]
  },
  {
   "cell_type": "markdown",
   "id": "32074561",
   "metadata": {},
   "source": [
    "### Calculating distance\n",
    "_**TODO:** Write some prose that tells the reader what you're about to do here._"
   ]
  },
  {
   "cell_type": "code",
   "execution_count": 22,
   "id": "4cbbe6cc",
   "metadata": {},
   "outputs": [],
   "source": [
    "def calculate_distance(from_coord, to_coord):\n",
    "    # unpack from_coord & to_coord\n",
    "    lon1, lat1 = from_coord\n",
    "    lon2, lat2 = to_coord\n",
    "    # set radius of earth\n",
    "    earth_r = 6371\n",
    "    # convert distance between lats & lons to radians\n",
    "    dlat = math.radians(lat2 - lat1)\n",
    "    dlon = math.radians(lon2 - lon1)\n",
    "    # solve for distance using haversine function \n",
    "    a = (math.sin(dlat / 2) ** 2 +\n",
    "         math.cos(math.radians(lat1)) * math.cos(math.radians(lat2)) *\n",
    "         math.sin(dlon / 2) **2)\n",
    "    c = 2 * math.atan2(math.sqrt(a), math.sqrt(1 - a))\n",
    "    dis = earth_r * c\n",
    "    return dis"
   ]
  },
  {
   "cell_type": "code",
   "execution_count": 23,
   "id": "6d6abf52",
   "metadata": {},
   "outputs": [],
   "source": [
    "def add_distance_column(dataframe):\n",
    "    # add new column distance\n",
    "    dataframe['distance'] = np.nan\n",
    "    # iterate over all rows and add calculated distance\n",
    "    for index, row in dataframe.iterrows():\n",
    "        dataframe.loc[index,'distance'] = calculate_distance((row[\"pickup_longitude\"],row[\"pickup_latitude\"]),(row[\"dropoff_longitude\"],row[\"dropoff_latitude\"]))                                       \n",
    "    return dataframe"
   ]
  },
  {
   "cell_type": "markdown",
   "id": "93daa717",
   "metadata": {},
   "source": [
    "### Processing Taxi Data\n",
    "\n",
    "_**TODO:** Write some prose that tells the reader what you're about to do here._"
   ]
  },
  {
   "cell_type": "code",
   "execution_count": 24,
   "id": "cbd0d198",
   "metadata": {},
   "outputs": [],
   "source": [
    "def get_taxi_html():\n",
    "    response = requests.get(TAXI_URL)\n",
    "    html = response.content\n",
    "    return html\n",
    "\n",
    "def find_taxi_csv_urls():\n",
    "    html = get_taxi_html()\n",
    "    soup = bs4.BeautifulSoup(html, 'html.parser')    \n",
    "    urls = [link.get('href') for link in soup.find_all(title=\"Yellow Taxi Trip Records\")]\n",
    "    expected=[]\n",
    "    pattern1 = re.compile(r\".*2009-\\d\\d.parquet\")\n",
    "    pattern2 = re.compile(r\".*201[0-4]-\\d\\d.parquet\")\n",
    "    pattern3 = re.compile(r\".*2015-0[1-6].parquet\")\n",
    "    for link in urls:\n",
    "        match= pattern1.search(link)\n",
    "        if match:\n",
    "            expected.append(match.string)\n",
    "    for link in urls:\n",
    "        match= pattern2.search(link)\n",
    "        if match:\n",
    "            expected.append(match.string)\n",
    "    for link in urls:\n",
    "        match= pattern3.search(link)\n",
    "        if match:\n",
    "            expected.append(match.string)\n",
    "    return expected"
   ]
  },
  {
   "cell_type": "code",
   "execution_count": 25,
   "id": "2f40130a",
   "metadata": {},
   "outputs": [],
   "source": [
    "def get_and_clean_month_taxi_data(url):\n",
    "    df = pd.read_parquet(url, engine='pyarrow')\n",
    "    #normalizing column names\n",
    "    if \"tpep_pickup_datetime\" in df.columns:\n",
    "        df.rename(columns={\"tpep_pickup_datetime\": \"pickup_datetime\", \n",
    "                           \"tpep_dropoff_datetime\":\"dropoff_datetime\"}, inplace=True)\n",
    "    \n",
    "    if \"Start_Lon\" in df.columns:\n",
    "        df.rename(columns={\"Start_Lon\": \"pickup_longitude\",\n",
    "                          \"End_Lon\": \"dropoff_longitude\",\n",
    "                          \"Start_Lat\": \"pickup_latitude\",\n",
    "                          \"End_Lat\": \"dropoff_latitude\",\n",
    "                           \"Trip_Pickup_DateTime\": \"pickup_datetime\", \n",
    "                            \"Tip_Amt\": \"tip_amount\"}, inplace=True)\n",
    "    \n",
    "    #extract longitude & latitude from location ids\n",
    "    if \"PULocationID\" in df.columns:\n",
    "        GeoSeries= gpd.read_file(filename=\"taxi_zones.zip\",engine=\"pyogrio\")\n",
    "        g=GeoSeries.to_crs(epsg=4326)\n",
    "        g[\"longtitude\"]=g.geometry.centroid.x\n",
    "        g[\"latitude\"]=g.geometry.centroid.y\n",
    "        df[\"pickup_latitude\"]=df[\"PULocationID\"].map(g[\"latitude\"])\n",
    "        df[\"pickup_longitude\"]=df[\"PULocationID\"].map(g[\"longtitude\"])\n",
    "        df[\"dropoff_latitude\"]=df[\"DOLocationID\"].map(g[\"latitude\"])\n",
    "        df[\"dropoff_longitude\"]=df[\"DOLocationID\"].map(g[\"longtitude\"])\n",
    "    \n",
    "    # only select columns we need to keep\n",
    "    cols_to_keep = [\"pickup_datetime\",\"pickup_longitude\",\"dropoff_longitude\",\"pickup_latitude\",\"dropoff_latitude\",\"tip_amount\"]\n",
    "    df = df[cols_to_keep]\n",
    "    \n",
    "    # convert pickup_datetime column to datetime\n",
    "    df[\"pickup_datetime\"] = pd.to_datetime(df.pickup_datetime)\n",
    "    \n",
    "    #removing data outside new york coords\n",
    "    df = df[(df.pickup_longitude>=NEW_YORK_BOX_COORDS[0][1])&(df.pickup_longitude<=NEW_YORK_BOX_COORDS[1][1])\n",
    "                   & (df.pickup_latitude>=NEW_YORK_BOX_COORDS[0][0]) & (df.pickup_latitude<=NEW_YORK_BOX_COORDS[1][0])\n",
    "                   & (df.dropoff_longitude>=NEW_YORK_BOX_COORDS[0][1])&(df.dropoff_longitude<=NEW_YORK_BOX_COORDS[1][1])\n",
    "                   & (df.dropoff_latitude>=NEW_YORK_BOX_COORDS[0][0]) & (df.pickup_latitude<=NEW_YORK_BOX_COORDS[1][0])\n",
    "                   & (df.dropoff_latitude!=df.pickup_latitude) & (df.pickup_longitude!=df.dropoff_longitude)]\n",
    "    \n",
    "    # sample 2500 rows per file to match uber dataset\n",
    "    df = df.sample(2500)\n",
    "    return df"
   ]
  },
  {
   "cell_type": "code",
   "execution_count": 26,
   "id": "35c9c0cd",
   "metadata": {},
   "outputs": [],
   "source": [
    "def get_and_clean_taxi_data():\n",
    "    all_taxi_dataframes = []\n",
    "    \n",
    "    all_csv_urls = find_taxi_csv_urls()\n",
    "    for csv_url in all_csv_urls:\n",
    "        # maybe: first try to see if you've downloaded this exact\n",
    "        # file already and saved it before trying again\n",
    "        dataframe = get_and_clean_month_taxi_data(csv_url)\n",
    "        add_distance_column(dataframe)\n",
    "        # maybe: if the file hasn't been saved, save it so you can\n",
    "        # avoid re-downloading it if you re-run the function\n",
    "        \n",
    "        all_taxi_dataframes.append(dataframe)\n",
    "        print(csv_url)\n",
    "        \n",
    "    # create one gigantic dataframe with data from every month needed\n",
    "    taxi_data = pd.concat(all_taxi_dataframes)\n",
    "    return taxi_data"
   ]
  },
  {
   "cell_type": "markdown",
   "id": "094b4d6d",
   "metadata": {},
   "source": [
    "### Processing Uber Data\n",
    "\n",
    "_**TODO:** Write some prose that tells the reader what you're about to do here._"
   ]
  },
  {
   "cell_type": "code",
   "execution_count": 27,
   "id": "7c58e3a2",
   "metadata": {},
   "outputs": [],
   "source": [
    "def load_and_clean_uber_data(csv_file):\n",
    "    # get dataframe from uber csv\n",
    "    df = pd.read_csv(csv_file)\n",
    "    # rename column\n",
    "    df.rename(columns={'Unnamed: 0':'id'}, inplace=True)\n",
    "    # convert pickup_datetime column to datetime\n",
    "    df[\"pickup_datetime\"] = pd.to_datetime(df.pickup_datetime)\n",
    "    # drop unnecessary columns\n",
    "    df.drop([\"id\",\"key\"], axis=1, inplace=True)\n",
    "    # only select trips within new york coords & positive fare amount & positive passenger count\n",
    "    cleaned_df = df[(df.pickup_longitude>=NEW_YORK_BOX_COORDS[0][1])&(df.pickup_longitude<=NEW_YORK_BOX_COORDS[1][1])\n",
    "                   & (df.pickup_latitude>=NEW_YORK_BOX_COORDS[0][0]) & (df.pickup_latitude<=NEW_YORK_BOX_COORDS[1][0])\n",
    "                   & (df.dropoff_longitude>=NEW_YORK_BOX_COORDS[0][1])&(df.dropoff_longitude<=NEW_YORK_BOX_COORDS[1][1])\n",
    "                   & (df.dropoff_latitude>=NEW_YORK_BOX_COORDS[0][0]) & (df.pickup_latitude<=NEW_YORK_BOX_COORDS[1][0])\n",
    "                   & (df.passenger_count>0) & (df.fare_amount>0)]\n",
    "    # drop unnecessary columns\n",
    "    cleaned_df = cleaned_df.drop([\"fare_amount\",\"passenger_count\"], axis=1).copy()\n",
    "    return cleaned_df"
   ]
  },
  {
   "cell_type": "code",
   "execution_count": 28,
   "id": "f836f118",
   "metadata": {},
   "outputs": [],
   "source": [
    "def get_uber_data():\n",
    "    uber_dataframe = load_and_clean_uber_data(UBER_CSV)\n",
    "    add_distance_column(uber_dataframe)\n",
    "    return uber_dataframe"
   ]
  },
  {
   "cell_type": "markdown",
   "id": "45a15cbb",
   "metadata": {},
   "source": [
    "### Processing Weather Data\n",
    "\n",
    "_**TODO:** Write some prose that tells the reader what you're about to do here._"
   ]
  },
  {
   "cell_type": "code",
   "execution_count": 29,
   "id": "76e864ab",
   "metadata": {},
   "outputs": [],
   "source": [
    "def clean_month_weather_data_hourly(csv_file):\n",
    "    df=pd.read_csv(csv_file,low_memory=False)\n",
    "    if df[\"HourlyPrecipitation\"] is\"NaN\":\n",
    "        df[\"HourlyPrecipitation\"]=df[\"DailyPrecipitation\"]/24\n",
    "    if df[\"HourlyWindSpeed\"] is \"NaN\":\n",
    "        df[\"HourlyWindSpeed\"]=df[\"DailyAverageWindSpeed\"]/24\n",
    "    df[\"DATE\"] = pd.to_datetime(df[\"DATE\"])\n",
    "    df[\"HourlyPrecipitation\"] = df[\"HourlyPrecipitation\"].replace([\"T\"],\"0.00\" )\n",
    "    df_new=df[[\"DATE\",\"HourlyPrecipitation\",\"HourlyWindSpeed\"]]\n",
    "    df_new.dropna(inplace=True)\n",
    "    return df_new\n",
    "    #replace T by 0.0,T means trace amount is greater than 0 but very small \n",
    "    #drop all blank rows and replace some blank rows by daily amount/24\n",
    "    #clean the date and choose three specific column for the following questions\n",
    "    "
   ]
  },
  {
   "cell_type": "code",
   "execution_count": 30,
   "id": "0687581f",
   "metadata": {},
   "outputs": [],
   "source": [
    "def clean_month_weather_data_daily(csv_file):\n",
    "    df2=pd.read_csv(csv_file,low_memory=False)\n",
    "    if df2[\"DailyAverageWindSpeed\"] is \"NaN\":\n",
    "        df2[\"DailyAverageWindSpeed\"]=df2[\"HourlyWindSpeed\"]*24\n",
    "    df2[\"DATE\"] = pd.to_datetime(df2[\"DATE\"])\n",
    "    df_new2=df2[[\"DATE\",\"DailyAverageWindSpeed\"]]\n",
    "    df_new2.dropna(inplace=True)\n",
    "    return df_new2\n",
    "    #raise NotImplemented()"
   ]
  },
  {
   "cell_type": "code",
   "execution_count": 31,
   "id": "3ef8945d",
   "metadata": {},
   "outputs": [],
   "source": [
    "def load_and_clean_weather_data():\n",
    "    hourly_dataframes = []\n",
    "    daily_dataframes = []\n",
    "    \n",
    "    # add some way to find all weather CSV files\n",
    "    # or just add the name/paths manually\n",
    "    weather_csv_files = [\"2009_weather.csv\" ,\"2010_weather.csv\",\"2011_weather.csv\",\"2012_weather.csv\",\"2013_weather.csv\",\"2014_weather.csv\",\"2015_weather.csv\"]\n",
    "    \n",
    "    for csv_file in weather_csv_files:\n",
    "        hourly_dataframe = clean_month_weather_data_hourly(csv_file)\n",
    "        daily_dataframe = clean_month_weather_data_daily(csv_file)\n",
    "        hourly_dataframes.append(hourly_dataframe)\n",
    "        daily_dataframes.append(daily_dataframe)\n",
    "        \n",
    "    # create two dataframes with hourly & daily data from every month\n",
    "    hourly_data = pd.concat(hourly_dataframes)\n",
    "    daily_data = pd.concat(daily_dataframes)\n",
    "    \n",
    "    return hourly_data, daily_data"
   ]
  },
  {
   "cell_type": "markdown",
   "id": "f900f7aa",
   "metadata": {},
   "source": [
    "### Process All Data\n",
    "\n",
    "_This is where you can actually execute all the required functions._\n",
    "\n",
    "_**TODO:** Write some prose that tells the reader what you're about to do here._"
   ]
  },
  {
   "cell_type": "code",
   "execution_count": 32,
   "id": "4064f12c",
   "metadata": {},
   "outputs": [],
   "source": [
    "taxi_data = pd.read_csv(\"taxi_file_final.csv\")"
   ]
  },
  {
   "cell_type": "code",
   "execution_count": 33,
   "id": "f7cd53a6",
   "metadata": {},
   "outputs": [],
   "source": [
    "#taxi_data = get_and_clean_taxi_data()\n",
    "uber_data = get_uber_data()\n",
    "hourly_weather_data, daily_weather_data = load_and_clean_weather_data()"
   ]
  },
  {
   "cell_type": "markdown",
   "id": "dd101f11",
   "metadata": {},
   "source": [
    "## Part 2: Storing Cleaned Data\n",
    "\n",
    "_Write some prose that tells the reader what you're about to do here._"
   ]
  },
  {
   "cell_type": "code",
   "execution_count": 34,
   "id": "f3529cf6",
   "metadata": {},
   "outputs": [],
   "source": [
    "engine = db.create_engine(DATABASE_URL)"
   ]
  },
  {
   "cell_type": "code",
   "execution_count": 35,
   "id": "d2bea0ff",
   "metadata": {},
   "outputs": [],
   "source": [
    "# if using SQL (as opposed to SQLAlchemy), define the commands \n",
    "# to create your 4 tables/dataframes\n",
    "HOURLY_WEATHER_SCHEMA = \"\"\"\n",
    "CREATE TABLE IF NOT EXISTS hourly_weather (\n",
    "    hourlyid INTEGER PRIMARY KEY AUTOINCREMENT,\n",
    "    DATE DATETIME,\n",
    "    HourlyPrecipitation FLOAT,\n",
    "    HourlyWindSpeed FLOAT\n",
    ");\n",
    "\n",
    "\"\"\"\n",
    "\n",
    "DAILY_WEATHER_SCHEMA = \"\"\"\n",
    "CREATE TABLE IF NOT EXISTS daily_weather (\n",
    "    dailyid INTEGER PRIMARY KEY AUTOINCREMENT,\n",
    "    DATE DATETIME,\n",
    "    DailyAverageWindSpeed FLOAT\n",
    ");\n",
    "\n",
    "\"\"\"\n",
    "TAXI_TRIPS_SCHEMA = \"\"\"\n",
    "CREATE TABLE IF NOT EXISTS taxi_trips (\n",
    "   taxi_id INTEGER PRIMARY KEY AUTOINCREMENT,\n",
    "   pickup_datetime DATETIME,\n",
    "   pickup_longitude DOUBLE,\n",
    "   pickup_latitude DOUBLE,\n",
    "   dropoff_longitude DOUBLE,\n",
    "   dropoff_latitude DOUBLE,\n",
    "   tip_amount FLOAT,\n",
    "   distance DOUBLE\n",
    ");\n",
    "\"\"\"\n",
    "\n",
    "UBER_TRIPS_SCHEMA = \"\"\"\n",
    "CREATE TABLE IF NOT EXISTS uber_trips (\n",
    "   uber_id INTEGER PRIMARY KEY AUTOINCREMENT,\n",
    "   pickup_datetime DATETIME,\n",
    "   pickup_longitude DOUBLE,\n",
    "   pickup_latitude DOUBLE,\n",
    "   dropoff_longitude DOUBLE,\n",
    "   dropoff_latitude DOUBLE,\n",
    "   distance DOUBLE\n",
    ");\n",
    "\"\"\""
   ]
  },
  {
   "cell_type": "code",
   "execution_count": 36,
   "id": "5f41e54b",
   "metadata": {},
   "outputs": [],
   "source": [
    "# create that required schema.sql file\n",
    "with open(DATABASE_SCHEMA_FILE, \"w\") as f:\n",
    "    f.write(HOURLY_WEATHER_SCHEMA)\n",
    "    f.write(DAILY_WEATHER_SCHEMA)\n",
    "    f.write(TAXI_TRIPS_SCHEMA)\n",
    "    f.write(UBER_TRIPS_SCHEMA)"
   ]
  },
  {
   "cell_type": "code",
   "execution_count": 37,
   "id": "02eccdba",
   "metadata": {},
   "outputs": [],
   "source": [
    "# create the tables with the schema files\n",
    "with engine.connect() as connection:\n",
    "    pass"
   ]
  },
  {
   "cell_type": "markdown",
   "id": "c122964f",
   "metadata": {},
   "source": [
    "### Add Data to Database\n",
    "\n",
    "_**TODO:** Write some prose that tells the reader what you're about to do here._"
   ]
  },
  {
   "cell_type": "code",
   "execution_count": 38,
   "id": "0e68a363",
   "metadata": {},
   "outputs": [],
   "source": [
    "def write_dataframes_to_table(table_to_df_dict):\n",
    "    for table, data in table_to_df_dict.items():\n",
    "        df=data\n",
    "        df.to_sql(table, con=engine, if_exists='append',index=False)"
   ]
  },
  {
   "cell_type": "code",
   "execution_count": 39,
   "id": "45d6c06c",
   "metadata": {},
   "outputs": [],
   "source": [
    "map_table_name_to_dataframe = {\n",
    "    \"taxi_trips\": taxi_data,\n",
    "    \"uber_trips\": uber_data,\n",
    "    \"hourly_weather\": hourly_weather_data,\n",
    "    \"daily_weather\": daily_weather_data,\n",
    "}"
   ]
  },
  {
   "cell_type": "code",
   "execution_count": 40,
   "id": "74004f96",
   "metadata": {},
   "outputs": [],
   "source": [
    "write_dataframes_to_table(map_table_name_to_dataframe)"
   ]
  },
  {
   "cell_type": "markdown",
   "id": "8cb6e33e",
   "metadata": {},
   "source": [
    "## Part 3: Understanding the Data"
   ]
  },
  {
   "cell_type": "markdown",
   "id": "b4753fcd",
   "metadata": {},
   "source": [
    "_A checklist of requirements to keep you on track. Remove this whole cell before submitting the project. The order of these tasks aren't necessarily the order in which they need to be done. It's okay to do them in an order that makes sense to you._\n",
    "\n",
    "* [ ] For 01-2009 through 06-2015, what hour of the day was the most popular to take a yellow taxi? The result should have 24 bins.\n",
    "* [ ] For the same time frame, what day of the week was the most popular to take an uber? The result should have 7 bins.\n",
    "* [ ] What is the 95% percentile of distance traveled for all hired trips during July 2013?\n",
    "* [ ] What were the top 10 days with the highest number of hired rides for 2009, and what was the average distance for each day?\n",
    "* [ ] Which 10 days in 2014 were the windiest, and how many hired trips were made on those days?\n",
    "* [ ] During Hurricane Sandy in NYC (Oct 29-30, 2012) and the week leading up to it, how many trips were taken each hour, and for each hour, how much precipitation did NYC receive and what was the sustained wind speed?"
   ]
  },
  {
   "cell_type": "code",
   "execution_count": 41,
   "id": "6a849e92",
   "metadata": {},
   "outputs": [],
   "source": [
    "def write_query_to_file(query, outfile):\n",
    "    with open(outfile, \"w\") as f:\n",
    "        f.write(query)"
   ]
  },
  {
   "cell_type": "markdown",
   "id": "ee70a777",
   "metadata": {},
   "source": [
    "### Query N\n",
    "\n",
    "_**TODO:** Write some prose that tells the reader what you're about to do here._\n",
    "\n",
    "_Repeat for each query_"
   ]
  },
  {
   "attachments": {},
   "cell_type": "markdown",
   "id": "1c5c28e8",
   "metadata": {},
   "source": [
    "### Query 1\n",
    "For 01-2009 through 06-2015, what hour of the day was the most popular to take a yellow taxi? The result should have 24 bins."
   ]
  },
  {
   "cell_type": "code",
   "execution_count": 42,
   "id": "3456c3ba",
   "metadata": {},
   "outputs": [],
   "source": [
    "QUERY_1 = \"\"\"SELECT strftime ('%H',pickup_datetime) AS Hr, count(*) AS Ct\n",
    "FROM taxi_trips GROUP BY strftime ('%H',pickup_datetime)\"\"\""
   ]
  },
  {
   "cell_type": "code",
   "execution_count": 43,
   "id": "1a9697ae",
   "metadata": {},
   "outputs": [
    {
     "data": {
      "text/plain": [
       "[('00', 7759),\n",
       " ('01', 5971),\n",
       " ('02', 4273),\n",
       " ('03', 3118),\n",
       " ('04', 2294),\n",
       " ('05', 1893),\n",
       " ('06', 4083),\n",
       " ('07', 6922),\n",
       " ('08', 8682),\n",
       " ('09', 9072),\n",
       " ('10', 8780),\n",
       " ('11', 9028),\n",
       " ('12', 9458),\n",
       " ('13', 9309),\n",
       " ('14', 9691),\n",
       " ('15', 9241),\n",
       " ('16', 7998),\n",
       " ('17', 9520),\n",
       " ('18', 11847),\n",
       " ('19', 12321),\n",
       " ('20', 11435),\n",
       " ('21', 11403),\n",
       " ('22', 10994),\n",
       " ('23', 9908)]"
      ]
     },
     "execution_count": 43,
     "metadata": {},
     "output_type": "execute_result"
    }
   ],
   "source": [
    "engine.execute(QUERY_1).fetchall()"
   ]
  },
  {
   "cell_type": "code",
   "execution_count": 44,
   "id": "b1c03fe7",
   "metadata": {},
   "outputs": [],
   "source": [
    "write_query_to_file(QUERY_1, \"most_popular_hour_taxi.sql\")"
   ]
  },
  {
   "attachments": {},
   "cell_type": "markdown",
   "id": "c4390f5b",
   "metadata": {},
   "source": [
    "### Query 2\n",
    "For the same time frame, what day of the week was the most popular to take an uber? The result should have 7 bins."
   ]
  },
  {
   "cell_type": "code",
   "execution_count": 45,
   "id": "837231f6",
   "metadata": {},
   "outputs": [],
   "source": [
    "QUERY_2 = \"\"\"SELECT strftime('%w',pickup_datetime) AS Day, count(*) AS Ct\n",
    "FROM uber_trips GROUP BY strftime('%w',pickup_datetime)\"\"\""
   ]
  },
  {
   "cell_type": "code",
   "execution_count": 46,
   "id": "61258b25",
   "metadata": {},
   "outputs": [
    {
     "data": {
      "text/plain": [
       "[('0', 25775),\n",
       " ('1', 24569),\n",
       " ('2', 27416),\n",
       " ('3', 28239),\n",
       " ('4', 29253),\n",
       " ('5', 30072),\n",
       " ('6', 29497)]"
      ]
     },
     "execution_count": 46,
     "metadata": {},
     "output_type": "execute_result"
    }
   ],
   "source": [
    "engine.execute(QUERY_2).fetchall()"
   ]
  },
  {
   "cell_type": "code",
   "execution_count": 47,
   "id": "93ff2137",
   "metadata": {},
   "outputs": [],
   "source": [
    "write_query_to_file(QUERY_2, \"most_popular_day_uber.sql\")"
   ]
  },
  {
   "attachments": {},
   "cell_type": "markdown",
   "id": "eb4dd6c3",
   "metadata": {},
   "source": [
    "### Query 3\n",
    "What is the 95% percentile of distance traveled for all hired trips during July 2013?"
   ]
  },
  {
   "cell_type": "code",
   "execution_count": 48,
   "id": "842db45d",
   "metadata": {},
   "outputs": [],
   "source": [
    "QUERY_3 = \"\"\"\n",
    "WITH hired_trips AS (\n",
    "SELECT pickup_datetime, distance FROM taxi_trips \n",
    "WHERE strftime(\"%Y-%m\", pickup_datetime)=\"2013-07\" UNION ALL \n",
    "SELECT pickup_datetime, distance FROM uber_trips\n",
    "WHERE strftime(\"%Y-%m\", pickup_datetime)='2013-07'\n",
    ")\n",
    "SELECT distance from (SELECT\n",
    "    distance,\n",
    "    printf('%.2f', PERCENT_RANK() OVER( \n",
    "        ORDER BY distance \n",
    "    )) Rank FROM hired_trips ORDER BY Rank DESC)\n",
    "    WHERE Rank ='0.95' LIMIT 1\n",
    "\"\"\""
   ]
  },
  {
   "cell_type": "code",
   "execution_count": 49,
   "id": "28b68d82",
   "metadata": {},
   "outputs": [
    {
     "data": {
      "text/plain": [
       "[(22.56718893563213,)]"
      ]
     },
     "execution_count": 49,
     "metadata": {},
     "output_type": "execute_result"
    }
   ],
   "source": [
    "engine.execute(QUERY_3).fetchall()"
   ]
  },
  {
   "cell_type": "code",
   "execution_count": 50,
   "id": "66d3470b",
   "metadata": {},
   "outputs": [],
   "source": [
    "write_query_to_file(QUERY_3, \"95_percentile_distance.sql\")"
   ]
  },
  {
   "attachments": {},
   "cell_type": "markdown",
   "id": "a75cd283",
   "metadata": {},
   "source": [
    "### Query 4\n",
    "What were the top 10 days with the highest number of hired rides for 2009, and what was the average distance for each day?"
   ]
  },
  {
   "cell_type": "code",
   "execution_count": 51,
   "id": "68336a7a",
   "metadata": {},
   "outputs": [],
   "source": [
    "QUERY_4 = \"\"\" SELECT strftime('%Y-%m-%d', pickup_datetime), count(*), AVG(distance) FROM(\n",
    "SELECT pickup_datetime, distance FROM uber_trips WHERE strftime('%Y', pickup_datetime)='2009'\n",
    "UNION ALL\n",
    "SELECT pickup_datetime, distance FROM taxi_trips WHERE strftime('%Y', pickup_datetime)='2009') \n",
    "GROUP BY strftime('%Y-%m-%d', pickup_datetime) ORDER BY count(*) DESC\n",
    "LIMIT 10\n",
    ";\n",
    "\"\"\""
   ]
  },
  {
   "cell_type": "code",
   "execution_count": 52,
   "id": "476c539a",
   "metadata": {},
   "outputs": [
    {
     "data": {
      "text/plain": [
       "[('2009-12-11', 228, 3.009219759085025),\n",
       " ('2009-05-08', 226, 3.3444767154601287),\n",
       " ('2009-10-23', 222, 2.623900049808902),\n",
       " ('2009-12-18', 221, 2.88887938685852),\n",
       " ('2009-11-05', 213, 3.559968742904005),\n",
       " ('2009-04-18', 212, 3.4120530469894748),\n",
       " ('2009-12-05', 211, 3.0284544809751477),\n",
       " ('2009-08-14', 210, 3.5734338419492544),\n",
       " ('2009-07-21', 208, 3.178228785312645),\n",
       " ('2009-12-16', 207, 3.2849741389773137)]"
      ]
     },
     "execution_count": 52,
     "metadata": {},
     "output_type": "execute_result"
    }
   ],
   "source": [
    "engine.execute(QUERY_4).fetchall()"
   ]
  },
  {
   "cell_type": "code",
   "execution_count": 53,
   "id": "869c70ba",
   "metadata": {},
   "outputs": [],
   "source": [
    "write_query_to_file(QUERY_4, \"top_10_days_hired_rides_2009.sql\")"
   ]
  },
  {
   "attachments": {},
   "cell_type": "markdown",
   "id": "3a009d1f",
   "metadata": {},
   "source": [
    "### Query 5\n",
    "Which 10 days in 2014 were the windiest, and how many hired trips were made on those days?"
   ]
  },
  {
   "cell_type": "code",
   "execution_count": 54,
   "id": "6f0561ce",
   "metadata": {},
   "outputs": [],
   "source": [
    "QUERY_5 = \"\"\"\n",
    "WITH pickup_datetime AS (\n",
    "SELECT strftime(\"%Y-%m-%d\", DATE) \n",
    "FROM daily_weather \n",
    "GROUP BY strftime(\"%Y-%m-%d\", DATE)\n",
    "ORDER by DailyAverageWindSpeed DESC  \n",
    "LIMIT 10\n",
    ")\n",
    "SELECT (SELECT COUNT(*) FROM taxi_trips where taxi_trips.pickup_datetime==pickup_datetime ) \n",
    "+ (SELECT COUNT(*) FROM uber_trips where uber_trips.pickup_datetime==pickup_datetime) AS total\n",
    "\"\"\""
   ]
  },
  {
   "cell_type": "code",
   "execution_count": 55,
   "id": "c82c8178",
   "metadata": {},
   "outputs": [
    {
     "data": {
      "text/plain": [
       "[(389821,)]"
      ]
     },
     "execution_count": 55,
     "metadata": {},
     "output_type": "execute_result"
    }
   ],
   "source": [
    "engine.execute(QUERY_5).fetchall()"
   ]
  },
  {
   "cell_type": "code",
   "execution_count": 56,
   "id": "4813f9b2",
   "metadata": {},
   "outputs": [],
   "source": [
    "write_query_to_file(QUERY_5, \"top_10_windiest_days.sql\")"
   ]
  },
  {
   "attachments": {},
   "cell_type": "markdown",
   "id": "bd7aae93",
   "metadata": {},
   "source": [
    "### Query 6"
   ]
  },
  {
   "cell_type": "code",
   "execution_count": 57,
   "id": "568ccd7d",
   "metadata": {},
   "outputs": [],
   "source": [
    "QUERY_6 = \"\"\"\n",
    "WITH new_trips AS (\n",
    "SELECT strftime ('%Y-%m-%d %H',pickup_datetime) AS Hr, count(*) AS Ct FROM(\n",
    "SELECT pickup_datetime FROM uber_trips \n",
    "WHERE strftime('%Y-%m-%d',pickup_datetime) IN ('2012-10-22','2012-10-23','2012-10-24','2012-10-25','2012-10-26','2012-10-27','2012-10-28','2012-10-29','2012-10-30') \n",
    "UNION ALL\n",
    "SELECT pickup_datetime FROM taxi_trips\n",
    "WHERE strftime('%Y-%m-%d',pickup_datetime) IN ('2012-10-22','2012-10-23','2012-10-24','2012-10-25','2012-10-26','2012-10-27','2012-10-28','2012-10-29','2012-10-30') \n",
    ")\n",
    "GROUP BY strftime ('%Y-%m-%d %H',pickup_datetime)\n",
    "), new_weather AS(\n",
    "SELECT strftime ('%Y-%m-%d %H',date) AS Hr, HourlyPrecipitation, HourlyWindSpeed FROM hourly_weather \n",
    "WHERE strftime('%Y-%m-%d', date) IN ('2012-10-22','2012-10-23','2012-10-24','2012-10-25','2012-10-26','2012-10-27','2012-10-28','2012-10-29','2012-10-30') \n",
    "GROUP BY strftime ('%Y-%m-%d %H',date)\n",
    ")\n",
    "\n",
    "SELECT  new_trips.Hr, new_trips.Ct, coalesce(new_weather.HourlyPrecipitation, 0), coalesce(new_weather.HourlyWindSpeed, 0) \n",
    "FROM new_trips LEFT JOIN new_weather ON new_weather.Hr =new_trips.Hr\n",
    "\n",
    "\"\"\"\n"
   ]
  },
  {
   "cell_type": "code",
   "execution_count": 58,
   "id": "dc44e2c5",
   "metadata": {},
   "outputs": [
    {
     "data": {
      "text/plain": [
       "[('2012-10-22 00', 3, '0.00', 7.0),\n",
       " ('2012-10-22 01', 4, '0.00', 5.0),\n",
       " ('2012-10-22 02', 1, '0.00', 7.0),\n",
       " ('2012-10-22 03', 3, '0.00', 0.0),\n",
       " ('2012-10-22 05', 1, '0.00', 0.0),\n",
       " ('2012-10-22 06', 5, '0.00', 5.0),\n",
       " ('2012-10-22 07', 10, '0.00', 3.0),\n",
       " ('2012-10-22 08', 5, '0.00', 3.0),\n",
       " ('2012-10-22 09', 7, '0.00', 5.0),\n",
       " ('2012-10-22 10', 8, 0, 0),\n",
       " ('2012-10-22 11', 12, 0, 0),\n",
       " ('2012-10-22 12', 10, '0.00', 11.0),\n",
       " ('2012-10-22 13', 17, 0, 0),\n",
       " ('2012-10-22 14', 5, '0.00', 7.0),\n",
       " ('2012-10-22 15', 11, '0.00', 6.0),\n",
       " ('2012-10-22 16', 7, '0.00', 3.0),\n",
       " ('2012-10-22 17', 6, '0.00', 7.0),\n",
       " ('2012-10-22 18', 13, '0.00', 5.0),\n",
       " ('2012-10-22 19', 5, '0.00', 5.0),\n",
       " ('2012-10-22 20', 11, '0.00', 3.0),\n",
       " ('2012-10-22 21', 5, '0.00', 0.0),\n",
       " ('2012-10-22 22', 10, '0.00', 3.0),\n",
       " ('2012-10-23 00', 4, 0, 0),\n",
       " ('2012-10-23 01', 4, 0, 0),\n",
       " ('2012-10-23 02', 1, 0, 0),\n",
       " ('2012-10-23 04', 2, 0, 0),\n",
       " ('2012-10-23 05', 2, 0, 0),\n",
       " ('2012-10-23 06', 4, 0, 0),\n",
       " ('2012-10-23 07', 8, 0, 0),\n",
       " ('2012-10-23 08', 13, 0, 0),\n",
       " ('2012-10-23 09', 13, 0, 0),\n",
       " ('2012-10-23 10', 7, 0, 0),\n",
       " ('2012-10-23 11', 10, 0, 0),\n",
       " ('2012-10-23 12', 3, '0.00', 0.0),\n",
       " ('2012-10-23 13', 5, 0, 0),\n",
       " ('2012-10-23 14', 10, 0, 0),\n",
       " ('2012-10-23 15', 8, 0, 0),\n",
       " ('2012-10-23 16', 4, 0, 0),\n",
       " ('2012-10-23 17', 7, 0, 0),\n",
       " ('2012-10-23 18', 9, 0, 0),\n",
       " ('2012-10-23 19', 8, '0.00', 0.0),\n",
       " ('2012-10-23 20', 16, '0.02', 0.0),\n",
       " ('2012-10-23 21', 13, '0.00', 5.0),\n",
       " ('2012-10-23 22', 13, '0.01', 0.0),\n",
       " ('2012-10-23 23', 5, '0.00', 5.0),\n",
       " ('2012-10-24 00', 1, '0.00', 3.0),\n",
       " ('2012-10-24 01', 2, '0.00', 5.0),\n",
       " ('2012-10-24 02', 5, '0.00', 5.0),\n",
       " ('2012-10-24 04', 1, '0.00', 7.0),\n",
       " ('2012-10-24 05', 4, '0.00', 6.0),\n",
       " ('2012-10-24 06', 7, '0.00', 3.0),\n",
       " ('2012-10-24 07', 5, '0.00', 0.0),\n",
       " ('2012-10-24 08', 7, '0.00', 0.0),\n",
       " ('2012-10-24 09', 7, '0.00', 3.0),\n",
       " ('2012-10-24 10', 5, '0.00', 7.0),\n",
       " ('2012-10-24 11', 10, '0.00', 7.0),\n",
       " ('2012-10-24 12', 3, '0.00', 7.0),\n",
       " ('2012-10-24 13', 7, '0.00', 8.0),\n",
       " ('2012-10-24 14', 8, '0.00', 7.0),\n",
       " ('2012-10-24 15', 6, '0.00', 7.0),\n",
       " ('2012-10-24 16', 5, '0.00', 8.0),\n",
       " ('2012-10-24 17', 8, '0.00', 5.0),\n",
       " ('2012-10-24 18', 8, '0.00', 7.0),\n",
       " ('2012-10-24 19', 10, '0.00', 8.0),\n",
       " ('2012-10-24 20', 16, '0.00', 3.0),\n",
       " ('2012-10-24 21', 14, '0.00', 5.0),\n",
       " ('2012-10-24 22', 13, '0.00', 6.0),\n",
       " ('2012-10-24 23', 10, '0.00', 0.0),\n",
       " ('2012-10-25 00', 10, '0.00', 3.0),\n",
       " ('2012-10-25 01', 1, '0.00', 3.0),\n",
       " ('2012-10-25 02', 3, '0.00', 3.0),\n",
       " ('2012-10-25 03', 1, '0.00', 7.0),\n",
       " ('2012-10-25 04', 1, '0.00', 6.0),\n",
       " ('2012-10-25 05', 2, '0.00', 0.0),\n",
       " ('2012-10-25 06', 5, '0.00', 5.0),\n",
       " ('2012-10-25 07', 7, '0.00', 6.0),\n",
       " ('2012-10-25 08', 11, '0.00', 5.0),\n",
       " ('2012-10-25 09', 6, '0.00', 3.0),\n",
       " ('2012-10-25 10', 10, '0.00', 6.0),\n",
       " ('2012-10-25 11', 8, '0.00', 0.0),\n",
       " ('2012-10-25 12', 12, '0.00', 6.0),\n",
       " ('2012-10-25 13', 9, '0.00', 0.0),\n",
       " ('2012-10-25 14', 4, '0.00', 5.0),\n",
       " ('2012-10-25 15', 11, '0.00', 5.0),\n",
       " ('2012-10-25 16', 8, '0.00', 0.0),\n",
       " ('2012-10-25 17', 5, '0.00', 3.0),\n",
       " ('2012-10-25 18', 8, '0.00', 0.0),\n",
       " ('2012-10-25 19', 8, '0.00', 0.0),\n",
       " ('2012-10-25 20', 19, '0.00', 3.0),\n",
       " ('2012-10-25 21', 11, '0.00', 3.0),\n",
       " ('2012-10-25 22', 13, '0.00', 3.0),\n",
       " ('2012-10-25 23', 7, '0.00', 0.0),\n",
       " ('2012-10-26 00', 9, '0.00', 5.0),\n",
       " ('2012-10-26 01', 5, '0.00', 0.0),\n",
       " ('2012-10-26 02', 3, '0.00', 0.0),\n",
       " ('2012-10-26 03', 3, '0.00', 3.0),\n",
       " ('2012-10-26 04', 3, '0.00', 0.0),\n",
       " ('2012-10-26 05', 2, '0.00', 0.0),\n",
       " ('2012-10-26 06', 2, '0.00', 0.0),\n",
       " ('2012-10-26 07', 7, '0.00', 3.0),\n",
       " ('2012-10-26 08', 1, '0.00', 3.0),\n",
       " ('2012-10-26 09', 10, '0.00', 3.0),\n",
       " ('2012-10-26 10', 7, '0.00', 3.0),\n",
       " ('2012-10-26 11', 10, '0.00', 3.0),\n",
       " ('2012-10-26 12', 7, '0.00', 0.0),\n",
       " ('2012-10-26 13', 13, '0.00', 3.0),\n",
       " ('2012-10-26 14', 6, '0.00', 3.0),\n",
       " ('2012-10-26 15', 9, '0.00', 0.0),\n",
       " ('2012-10-26 16', 9, '0.00', 0.0),\n",
       " ('2012-10-26 17', 5, '0.00', 0.0),\n",
       " ('2012-10-26 18', 11, '0.00', 0.0),\n",
       " ('2012-10-26 19', 11, '0.00', 0.0),\n",
       " ('2012-10-26 20', 13, '0.00', 3.0),\n",
       " ('2012-10-26 21', 9, '0.00', 3.0),\n",
       " ('2012-10-26 22', 16, '0.00', 0.0),\n",
       " ('2012-10-26 23', 11, '0.00', 0.0),\n",
       " ('2012-10-27 00', 11, '0.00', 3.0),\n",
       " ('2012-10-27 01', 9, '0.00', 0.0),\n",
       " ('2012-10-27 02', 9, '0.00', 3.0),\n",
       " ('2012-10-27 03', 7, '0.00', 0.0),\n",
       " ('2012-10-27 05', 4, '0.00', 6.0),\n",
       " ('2012-10-27 06', 1, '0.00', 6.0),\n",
       " ('2012-10-27 07', 1, '0.00', 3.0),\n",
       " ('2012-10-27 08', 1, '0.00', 8.0),\n",
       " ('2012-10-27 09', 8, '0.00', 6.0),\n",
       " ('2012-10-27 10', 4, '0.00', 9.0),\n",
       " ('2012-10-27 11', 6, '0.00', 6.0),\n",
       " ('2012-10-27 12', 11, '0.00', 8.0),\n",
       " ('2012-10-27 13', 5, '0.00', 8.0),\n",
       " ('2012-10-27 14', 7, '0.00', 10.0),\n",
       " ('2012-10-27 15', 5, '0.00', 10.0),\n",
       " ('2012-10-27 16', 13, '0.00', 7.0),\n",
       " ('2012-10-27 17', 14, '0.00', 7.0),\n",
       " ('2012-10-27 18', 10, '0.00', 7.0),\n",
       " ('2012-10-27 19', 15, '0.00', 9.0),\n",
       " ('2012-10-27 20', 15, '0.00', 7.0),\n",
       " ('2012-10-27 21', 12, '0.00', 9.0),\n",
       " ('2012-10-27 22', 14, '0.00', 9.0),\n",
       " ('2012-10-27 23', 13, '0.00', 8.0),\n",
       " ('2012-10-28 00', 14, '0.00', 11.0),\n",
       " ('2012-10-28 01', 11, '0.00', 8.0),\n",
       " ('2012-10-28 02', 10, '0.00', 8.0),\n",
       " ('2012-10-28 03', 5, '0.00', 9.0),\n",
       " ('2012-10-28 04', 5, '0.00', 10.0),\n",
       " ('2012-10-28 05', 4, '0.00', 11.0),\n",
       " ('2012-10-28 06', 1, '0.00', 10.0),\n",
       " ('2012-10-28 07', 3, '0.00', 11.0),\n",
       " ('2012-10-28 08', 4, '0.00', 11.0),\n",
       " ('2012-10-28 09', 7, '0.00', 11.0),\n",
       " ('2012-10-28 10', 4, '0.00', 10.0),\n",
       " ('2012-10-28 11', 9, '0.00', 8.0),\n",
       " ('2012-10-28 12', 5, '0.00', 7.0),\n",
       " ('2012-10-28 13', 7, '0.00', 13.0),\n",
       " ('2012-10-28 14', 6, '0.00', 13.0),\n",
       " ('2012-10-28 15', 8, '0.00', 13.0),\n",
       " ('2012-10-28 16', 5, '0.00', 16.0),\n",
       " ('2012-10-28 17', 6, '0.00', 11.0),\n",
       " ('2012-10-28 18', 7, '0.00', 15.0),\n",
       " ('2012-10-28 19', 5, '0.00', 14.0),\n",
       " ('2012-10-28 20', 8, '0.00', 16.0),\n",
       " ('2012-10-28 21', 7, '0.00', 14.0),\n",
       " ('2012-10-28 22', 4, '0.00', 16.0),\n",
       " ('2012-10-28 23', 3, '0.00', 14.0),\n",
       " ('2012-10-29 00', 1, '0.00', 16.0),\n",
       " ('2012-10-29 02', 1, '0.00', 13.0),\n",
       " ('2012-10-29 04', 2, '0.00', 15.0),\n",
       " ('2012-10-29 06', 1, '0.02', 16.0),\n",
       " ('2012-10-29 07', 2, '0.02', 17.0),\n",
       " ('2012-10-29 08', 2, '0.00', 21.0),\n",
       " ('2012-10-29 09', 2, '0.00', 16.0),\n",
       " ('2012-10-29 10', 1, 0, 0),\n",
       " ('2012-10-29 11', 3, '0.01', 15.0),\n",
       " ('2012-10-29 12', 5, '0.02', 15.0),\n",
       " ('2012-10-29 14', 2, '0.03', 23.0),\n",
       " ('2012-10-29 15', 4, '0.07', 26.0),\n",
       " ('2012-10-29 17', 1, '0.04', 29.0),\n",
       " ('2012-10-29 18', 4, '0.02', 21.0),\n",
       " ('2012-10-29 21', 2, '0.00', 15.0),\n",
       " ('2012-10-30 00', 1, '0.03', 13.0),\n",
       " ('2012-10-30 02', 1, '0.03', 9.0),\n",
       " ('2012-10-30 04', 1, '0.00', 9.0),\n",
       " ('2012-10-30 08', 1, '0.01', 11.0),\n",
       " ('2012-10-30 09', 2, '0.01', 15.0),\n",
       " ('2012-10-30 10', 5, '0.02', 8.0),\n",
       " ('2012-10-30 11', 5, '0.00', 7.0),\n",
       " ('2012-10-30 12', 3, '0.00', 7.0),\n",
       " ('2012-10-30 13', 7, '0.00', 6.0),\n",
       " ('2012-10-30 14', 1, 0, 0),\n",
       " ('2012-10-30 15', 6, 0, 0),\n",
       " ('2012-10-30 16', 1, '0.01', 3.0),\n",
       " ('2012-10-30 17', 5, '0.00', 5.0),\n",
       " ('2012-10-30 18', 5, '0.00', 5.0),\n",
       " ('2012-10-30 19', 7, '0.00', 3.0),\n",
       " ('2012-10-30 20', 4, '0.00', 7.0),\n",
       " ('2012-10-30 21', 4, '0.00', 5.0),\n",
       " ('2012-10-30 22', 4, '0.00', 7.0),\n",
       " ('2012-10-30 23', 4, '0.00', 9.0)]"
      ]
     },
     "execution_count": 58,
     "metadata": {},
     "output_type": "execute_result"
    }
   ],
   "source": [
    "engine.execute(QUERY_6).fetchall()"
   ]
  },
  {
   "cell_type": "code",
   "execution_count": 59,
   "id": "4169db23",
   "metadata": {},
   "outputs": [],
   "source": [
    "write_query_to_file(QUERY_6, \"Hurricane_NYC.sql\")"
   ]
  },
  {
   "cell_type": "markdown",
   "id": "a13ced42",
   "metadata": {},
   "source": [
    "## Part 4: Visualizing the Data\n",
    "\n",
    "_A checklist of requirements to keep you on track. Remove this whole cell before submitting the project. The order of these tasks aren't necessarily the order in which they need to be done. It's okay to do them in an order that makes sense to you._\n",
    "\n",
    "* [ ] Create an appropriate visualization for the first query/question in part 3\n",
    "* [ ] Create a visualization that shows the average distance traveled per month (regardless of year - so group by each month). Include the 90% confidence interval around the mean in the visualization\n",
    "* [ ] Define three lat/long coordinate boxes around the three major New York airports: LGA, JFK, and EWR (you can use bboxfinder to help). Create a visualization that compares what day of the week was most popular for drop offs for each airport.\n",
    "* [ ] Create a heatmap of all hired trips over a map of the area. Consider using KeplerGL or another library that helps generate geospatial visualizations.\n",
    "* [ ] Create a scatter plot that compares tip amount versus distance.\n",
    "* [ ] Create another scatter plot that compares tip amount versus precipitation amount.\n",
    "\n",
    "_Be sure these cells are executed so that the visualizations are rendered when the notebook is submitted._"
   ]
  },
  {
   "cell_type": "markdown",
   "id": "6d9eef42",
   "metadata": {},
   "source": [
    "### Visualization N\n",
    "\n",
    "_**TODO:** Write some prose that tells the reader what you're about to do here._\n",
    "\n",
    "_Repeat for each visualization._\n",
    "\n",
    "_The example below makes use of the `matplotlib` library. There are other libraries, including `pandas` built-in plotting library, kepler for geospatial data representation, `seaborn`, and others._"
   ]
  },
  {
   "cell_type": "code",
   "execution_count": 60,
   "id": "1b59af22",
   "metadata": {},
   "outputs": [],
   "source": [
    "def get_data_for_visual_n(QUERY_N):\n",
    "    df = pd.read_sql_query(QUERY_N, con=engine)\n",
    "    return df"
   ]
  },
  {
   "attachments": {},
   "cell_type": "markdown",
   "id": "1faf2422",
   "metadata": {},
   "source": [
    "### Visualization 1\n",
    "Create an appropriate visualization for the first query/question in part 3"
   ]
  },
  {
   "cell_type": "code",
   "execution_count": 61,
   "id": "9cf6be67",
   "metadata": {},
   "outputs": [],
   "source": [
    "def plot_most_popular_hour():\n",
    "    # get the data of hired taxi trips group by 24-hour\n",
    "    df=get_data_for_visual_n(QUERY_1)\n",
    "    # set hour as x-axis & count as y-axis\n",
    "    x=df[\"Hr\"]\n",
    "    y=df[\"Ct\"]\n",
    "    # label x & y axes\n",
    "    plt.xlabel(\"Hour\")\n",
    "    plt.ylabel(\"Count\")\n",
    "    # set title\n",
    "    plt.title(\"Most Popular Hour of Yellow Taxi\")\n",
    "    # make bar graph\n",
    "    plt.bar(x,y)\n",
    "    plt.show()"
   ]
  },
  {
   "cell_type": "code",
   "execution_count": 62,
   "id": "719147bf",
   "metadata": {},
   "outputs": [
    {
     "data": {
      "image/png": "[encoded data removed]",
      "text/plain": [
       "<Figure size 640x480 with 1 Axes>"
      ]
     },
     "metadata": {},
     "output_type": "display_data"
    }
   ],
   "source": [
    "plot_most_popular_hour()"
   ]
  },
  {
   "attachments": {},
   "cell_type": "markdown",
   "id": "d209ecde",
   "metadata": {},
   "source": [
    "### Visualization 2\n",
    "Create a visualization that shows the average distance traveled per month (regardless of year - so group by each month). Include the 90% confidence interval around the mean in the visualization"
   ]
  },
  {
   "cell_type": "code",
   "execution_count": 63,
   "id": "9439ac54",
   "metadata": {},
   "outputs": [],
   "source": [
    "def avg_dis_per_month():\n",
    "    # get avg distance per month from all trips\n",
    "    query=\"\"\"SELECT strftime ('%m',pickup_datetime) as Month, AVG(distance) as AvgDis FROM\n",
    "    (SELECT pickup_datetime, distance FROM uber_trips UNION ALL\n",
    "    SELECT pickup_datetime, distance FROM taxi_trips)\n",
    "    GROUP BY strftime ('%m',pickup_datetime)\"\"\"\n",
    "    df=get_data_for_visual_n(query)\n",
    "    # set month as x-axis & avg distance as y-axis\n",
    "    x=df[\"Month\"]\n",
    "    y=df[\"AvgDis\"]\n",
    "    # calculate the 90% confidence interval for avg distance\n",
    "    ci = 1.645 * np.std(y)/np.sqrt(len(y))\n",
    "    # label x & y axes\n",
    "    plt.xlabel(\"Month\")\n",
    "    plt.ylabel(\"Average Distance\")\n",
    "    # set title\n",
    "    plt.title(\"Average Distance Per Month\")\n",
    "    # plot avg distance on month\n",
    "    plt.plot(x,y)\n",
    "    # plot 90% confidence interval\n",
    "    plt.fill_between(x, (y-ci), (y+ci), color='b', alpha=0.5)\n",
    "    plt.show()"
   ]
  },
  {
   "cell_type": "code",
   "execution_count": 64,
   "id": "d48b043b",
   "metadata": {},
   "outputs": [
    {
     "data": {
      "image/png": "[encoded data removed]",
      "text/plain": [
       "<Figure size 640x480 with 1 Axes>"
      ]
     },
     "metadata": {},
     "output_type": "display_data"
    }
   ],
   "source": [
    "avg_dis_per_month()"
   ]
  },
  {
   "attachments": {},
   "cell_type": "markdown",
   "id": "dbd83aca",
   "metadata": {},
   "source": [
    "### Visualization 3\n",
    "Define three lat/long coordinate boxes around the three major New York airports: LGA, JFK, and EWR (you can use bboxfinder to help). Create a visualization that compares what day of the week was most popular for drop offs for each airport."
   ]
  },
  {
   "cell_type": "code",
   "execution_count": 65,
   "id": "d5095f24",
   "metadata": {},
   "outputs": [],
   "source": [
    "# get lat/long coordinate boxes around three airports\n",
    "lga_coords=((-73.890314,40.766578),(-73.862762,40.774314))\n",
    "jfk_coords=((-73.826635,40.621911),(-73.743036,40.673748))\n",
    "ewr_coords=((-74.200639,40.671241),(-74.150170,40.715754))"
   ]
  },
  {
   "cell_type": "code",
   "execution_count": 66,
   "id": "591acc11",
   "metadata": {},
   "outputs": [],
   "source": [
    "def plot_dropoffs_for_lga_airport():\n",
    "    # select trips with dropoffs at lga airport from all trips, count and group by day of week\n",
    "    query=\"\"\"SELECT strftime(\"%w\", pickup_datetime) AS Day, count(*) AS Ct FROM \n",
    "    (SELECT pickup_datetime, dropoff_longitude, dropoff_latitude FROM uber_trips \n",
    "    WHERE dropoff_longitude>=-73.890314 AND dropoff_longitude<=-73.862762 AND dropoff_latitude>=40.766578 AND dropoff_latitude<=40.774314\n",
    "    UNION ALL\n",
    "    SELECT pickup_datetime, dropoff_longitude, dropoff_latitude FROM taxi_trips\n",
    "    WHERE dropoff_longitude>=-73.890314 AND dropoff_longitude<=-73.862762 AND dropoff_latitude>=40.766578 AND dropoff_latitude<=40.774314\n",
    "    )\n",
    "    GROUP BY strftime(\"%w\", pickup_datetime)\"\"\"\n",
    "    df=get_data_for_visual_n(query)\n",
    "    # choose day as x-axis & counts as y-axis\n",
    "    x=df[\"Day\"]\n",
    "    y=df[\"Ct\"]\n",
    "    # label x & y axes\n",
    "    plt.xlabel(\"Day\")\n",
    "    plt.ylabel(\"Count\")\n",
    "    # set title\n",
    "    plt.title(\"Most Popular Day of LGA\")\n",
    "    # make bar graph\n",
    "    plt.bar(x,y)\n",
    "    plt.show()"
   ]
  },
  {
   "cell_type": "code",
   "execution_count": 72,
   "id": "ed070626",
   "metadata": {},
   "outputs": [],
   "source": [
    "def plot_dropoffs_for_jfk_airport():\n",
    "    # select trips with dropoffs at jfk airport from all trips, count and group by day of week\n",
    "    query=\"\"\"SELECT strftime(\"%w\", pickup_datetime) AS Day, count(*) AS Ct FROM \n",
    "    (SELECT pickup_datetime, dropoff_longitude, dropoff_latitude FROM uber_trips \n",
    "    WHERE dropoff_longitude>=-73.826635 AND dropoff_longitude<=-73.743036 AND dropoff_latitude>=40.621911 AND dropoff_latitude<=40.673748\n",
    "    UNION ALL\n",
    "    SELECT pickup_datetime, dropoff_longitude, dropoff_latitude FROM taxi_trips\n",
    "    WHERE dropoff_longitude>=-73.826635 AND dropoff_longitude<=-73.743036 AND dropoff_latitude>=40.621911 AND dropoff_latitude<=40.673748\n",
    "    )\n",
    "    GROUP BY strftime(\"%w\", pickup_datetime)\"\"\"\n",
    "    df=get_data_for_visual_n(query)\n",
    "    # set day as x-axis & count as y-axis\n",
    "    x=df[\"Day\"]\n",
    "    y=df[\"Ct\"]\n",
    "    # label x & y axes\n",
    "    plt.xlabel(\"Day\")\n",
    "    plt.ylabel(\"Count\")\n",
    "    # set title\n",
    "    plt.title(\"Most Popular Day of JFK\")\n",
    "    # make bar graph\n",
    "    plt.bar(x,y)\n",
    "    plt.show()"
   ]
  },
  {
   "cell_type": "code",
   "execution_count": 73,
   "id": "dc02f3d2",
   "metadata": {},
   "outputs": [],
   "source": [
    "def plot_dropoffs_for_ewr_airport():\n",
    "     # select trips with dropoffs at ewr airport from all trips, count and group by day of week\n",
    "    query=\"\"\"SELECT strftime(\"%w\", pickup_datetime) AS Day, count(*) AS Ct FROM \n",
    "    (SELECT pickup_datetime, dropoff_longitude, dropoff_latitude FROM uber_trips \n",
    "    WHERE dropoff_longitude>=-74.200639 AND dropoff_longitude<=-74.150170 AND dropoff_latitude>=40.671241 AND dropoff_latitude<=40.715754\n",
    "    UNION ALL\n",
    "    SELECT pickup_datetime, dropoff_longitude, dropoff_latitude FROM taxi_trips\n",
    "    WHERE dropoff_longitude>=-74.200639 AND dropoff_longitude<=-74.150170 AND dropoff_latitude>=40.671241 AND dropoff_latitude<=40.715754\n",
    "    )\n",
    "    GROUP BY strftime(\"%w\", pickup_datetime)\"\"\"\n",
    "    df=get_data_for_visual_n(query)\n",
    "    # set day as x axis & counts as y axis\n",
    "    x=df[\"Day\"]\n",
    "    y=df[\"Ct\"]\n",
    "    # label x & y axes\n",
    "    plt.xlabel(\"Day\")\n",
    "    plt.ylabel(\"Count\")\n",
    "    # set title\n",
    "    plt.title(\"Most Popular Day of EWR\")\n",
    "    # make bar graph\n",
    "    plt.bar(x,y)\n",
    "    plt.show()"
   ]
  },
  {
   "cell_type": "code",
   "execution_count": 74,
   "id": "50edb9f7",
   "metadata": {},
   "outputs": [
    {
     "data": {
      "image/png": "[encoded data removed]",
      "text/plain": [
       "<Figure size 640x480 with 1 Axes>"
      ]
     },
     "metadata": {},
     "output_type": "display_data"
    },
    {
     "data": {
      "image/png": "[encoded data removed]",
      "text/plain": [
       "<Figure size 640x480 with 1 Axes>"
      ]
     },
     "metadata": {},
     "output_type": "display_data"
    },
    {
     "data": {
      "image/png": "[encoded data removed]",
      "text/plain": [
       "<Figure size 640x480 with 1 Axes>"
      ]
     },
     "metadata": {},
     "output_type": "display_data"
    }
   ],
   "source": [
    "plot_dropoffs_for_lga_airport()\n",
    "plot_dropoffs_for_jfk_airport()\n",
    "plot_dropoffs_for_ewr_airport()"
   ]
  },
  {
   "attachments": {},
   "cell_type": "markdown",
   "id": "5741607f",
   "metadata": {},
   "source": [
    "### Visualization 5\n",
    "Create a scatter plot that compares tip amount versus distance."
   ]
  },
  {
   "cell_type": "code",
   "execution_count": 70,
   "id": "4af84d84",
   "metadata": {},
   "outputs": [],
   "source": [
    "def plot_tip_amount_distance():\n",
    "    query=\"\"\"SELECT tip_amount as Tip_Amt, distance as Distance FROM taxi_trips\"\"\"\n",
    "    # get data of distance & tip amount from taxi trips\n",
    "    df=get_data_for_visual_n(query)\n",
    "    # set distance as x-axis & tip_amount as y-axis\n",
    "    x=df[\"Distance\"]\n",
    "    y=df[\"Tip_Amt\"]\n",
    "    # label x & y axes\n",
    "    plt.xlabel(\"Distance\")\n",
    "    plt.ylabel(\"Tip_Amt\")\n",
    "    # set title\n",
    "    plt.title(\"Tip Amount versus Distance\")\n",
    "    # make scatter plot\n",
    "    plt.scatter(x,y)\n",
    "    plt.show()"
   ]
  },
  {
   "cell_type": "code",
   "execution_count": 71,
   "id": "7e1b07da",
   "metadata": {},
   "outputs": [
    {
     "data": {
      "image/png": "[encoded data removed]",
      "text/plain": [
       "<Figure size 640x480 with 1 Axes>"
      ]
     },
     "metadata": {},
     "output_type": "display_data"
    }
   ],
   "source": [
    "plot_tip_amount_distance()"
   ]
  }
 ],
 "metadata": {
  "kernelspec": {
   "display_name": "Python 3",
   "language": "python",
   "name": "python3"
  },
  "language_info": {
   "codemirror_mode": {
    "name": "ipython",
    "version": 3
   },
   "file_extension": ".py",
   "mimetype": "text/x-python",
   "name": "python",
   "nbconvert_exporter": "python",
   "pygments_lexer": "ipython3",
   "version": "3.10.4"
  },
  "vscode": {
   "interpreter": {
    "hash": "3ad933181bd8a04b432d3370b9dc3b0662ad032c4dfaa4e4f1596c548f763858"
   }
  }
 },
 "nbformat": 4,
 "nbformat_minor": 5
}
